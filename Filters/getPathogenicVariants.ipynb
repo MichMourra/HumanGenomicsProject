{
 "cells": [
  {
   "cell_type": "code",
   "execution_count": 21,
   "metadata": {},
   "outputs": [],
   "source": [
    "import re"
   ]
  },
  {
   "cell_type": "code",
   "execution_count": 22,
   "metadata": {},
   "outputs": [],
   "source": [
    "file = open(\"./ANNOVAR_hg38/Monogenic_2_invalid.exonic_variant_function\", \"r\")\n",
    "path = \"ExonicPathogenicVariantsInvalid.variant_function\"\n",
    "pathogenic = open(path, \"w+\")"
   ]
  },
  {
   "cell_type": "code",
   "execution_count": 23,
   "metadata": {},
   "outputs": [],
   "source": [
    "#len(file.readlines())"
   ]
  },
  {
   "cell_type": "code",
   "execution_count": 24,
   "metadata": {},
   "outputs": [],
   "source": [
    "regexp = re.compile(\"( pathogenic,|,pathogenic\\n| pathogenic\\n|,pathogenic,)\")\n",
    "remove = re.compile(\"(benign|uncertain|conflicting|protective|Multifactorial|Isolated)\")\n",
    "for line in file:\n",
    "    match1 = regexp.search(line)\n",
    "    if match1:\n",
    "        match2 = remove.search(line)\n",
    "        if match2 == None: \n",
    "            pathogenic.write(line)\n",
    "file.close()\n",
    "pathogenic.close()"
   ]
  },
  {
   "cell_type": "code",
   "execution_count": 25,
   "metadata": {},
   "outputs": [
    {
     "name": "stdout",
     "output_type": "stream",
     "text": [
      "2290\n"
     ]
    }
   ],
   "source": [
    "file = open(\"./ExonicPathogenicVariantsInvalid.variant_function\", \"r\")\n",
    "print(len(file.readlines()))\n",
    "file.close()"
   ]
  },
  {
   "cell_type": "code",
   "execution_count": 110,
   "metadata": {},
   "outputs": [
    {
     "data": {
      "text/plain": [
       "3959"
      ]
     },
     "execution_count": 110,
     "metadata": {},
     "output_type": "execute_result"
    }
   ],
   "source": [
    "# Lost genomic variants \n",
    "21541 - 17582 "
   ]
  },
  {
   "cell_type": "code",
   "execution_count": 126,
   "metadata": {},
   "outputs": [
    {
     "data": {
      "text/plain": [
       "3688"
      ]
     },
     "execution_count": 126,
     "metadata": {},
     "output_type": "execute_result"
    }
   ],
   "source": [
    "# Lost exonic variants \n",
    "19443 - 15755"
   ]
  },
  {
   "cell_type": "code",
   "execution_count": 26,
   "metadata": {},
   "outputs": [
    {
     "data": {
      "text/plain": [
       "570"
      ]
     },
     "execution_count": 26,
     "metadata": {},
     "output_type": "execute_result"
    }
   ],
   "source": [
    "# Lost genomic variants from the invalid file \n",
    "2926 - 2356"
   ]
  },
  {
   "cell_type": "code",
   "execution_count": 27,
   "metadata": {},
   "outputs": [
    {
     "data": {
      "text/plain": [
       "518"
      ]
     },
     "execution_count": 27,
     "metadata": {},
     "output_type": "execute_result"
    }
   ],
   "source": [
    "# Lost exonic variants from the invalid file \n",
    "2808 - 2290"
   ]
  }
 ],
 "metadata": {
  "kernelspec": {
   "display_name": "Python 3",
   "language": "python",
   "name": "python3"
  },
  "language_info": {
   "codemirror_mode": {
    "name": "ipython",
    "version": 3
   },
   "file_extension": ".py",
   "mimetype": "text/x-python",
   "name": "python",
   "nbconvert_exporter": "python",
   "pygments_lexer": "ipython3",
   "version": "3.8.3"
  }
 },
 "nbformat": 4,
 "nbformat_minor": 4
}
